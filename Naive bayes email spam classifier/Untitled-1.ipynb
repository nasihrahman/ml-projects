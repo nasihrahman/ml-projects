{
 "cells": [
  {
   "cell_type": "markdown",
   "id": "2ce9bf46",
   "metadata": {},
   "source": [
    "importing libraries"
   ]
  },
  {
   "cell_type": "code",
   "execution_count": 2,
   "id": "479f5eab",
   "metadata": {},
   "outputs": [],
   "source": [
    "import pandas as pd"
   ]
  },
  {
   "cell_type": "code",
   "execution_count": 3,
   "id": "64ecad47",
   "metadata": {},
   "outputs": [
    {
     "data": {
      "text/html": [
       "<div>\n",
       "<style scoped>\n",
       "    .dataframe tbody tr th:only-of-type {\n",
       "        vertical-align: middle;\n",
       "    }\n",
       "\n",
       "    .dataframe tbody tr th {\n",
       "        vertical-align: top;\n",
       "    }\n",
       "\n",
       "    .dataframe thead th {\n",
       "        text-align: right;\n",
       "    }\n",
       "</style>\n",
       "<table border=\"1\" class=\"dataframe\">\n",
       "  <thead>\n",
       "    <tr style=\"text-align: right;\">\n",
       "      <th></th>\n",
       "      <th>text</th>\n",
       "      <th>spam</th>\n",
       "      <th>words</th>\n",
       "    </tr>\n",
       "  </thead>\n",
       "  <tbody>\n",
       "    <tr>\n",
       "      <th>0</th>\n",
       "      <td>Subject: naturally irresistible your corporate...</td>\n",
       "      <td>1</td>\n",
       "      <td>[formats, -, your, are, organization, ', %, sp...</td>\n",
       "    </tr>\n",
       "    <tr>\n",
       "      <th>1</th>\n",
       "      <td>Subject: the stock trading gunslinger  fanny i...</td>\n",
       "      <td>1</td>\n",
       "      <td>[tight, muzo, waterway, morristown, penultimat...</td>\n",
       "    </tr>\n",
       "    <tr>\n",
       "      <th>2</th>\n",
       "      <td>Subject: unbelievable new homes made easy  im ...</td>\n",
       "      <td>1</td>\n",
       "      <td>[unconditionally, being, in, limited, -, we, t...</td>\n",
       "    </tr>\n",
       "    <tr>\n",
       "      <th>3</th>\n",
       "      <td>Subject: 4 color printing special  request add...</td>\n",
       "      <td>1</td>\n",
       "      <td>[goldengraphix, printable, -, message, ramsey,...</td>\n",
       "    </tr>\n",
       "    <tr>\n",
       "      <th>4</th>\n",
       "      <td>Subject: do not have money , get software cds ...</td>\n",
       "      <td>1</td>\n",
       "      <td>[death, get, comedies, old, along, subject:, a...</td>\n",
       "    </tr>\n",
       "  </tbody>\n",
       "</table>\n",
       "</div>"
      ],
      "text/plain": [
       "                                                text  spam  \\\n",
       "0  Subject: naturally irresistible your corporate...     1   \n",
       "1  Subject: the stock trading gunslinger  fanny i...     1   \n",
       "2  Subject: unbelievable new homes made easy  im ...     1   \n",
       "3  Subject: 4 color printing special  request add...     1   \n",
       "4  Subject: do not have money , get software cds ...     1   \n",
       "\n",
       "                                               words  \n",
       "0  [formats, -, your, are, organization, ', %, sp...  \n",
       "1  [tight, muzo, waterway, morristown, penultimat...  \n",
       "2  [unconditionally, being, in, limited, -, we, t...  \n",
       "3  [goldengraphix, printable, -, message, ramsey,...  \n",
       "4  [death, get, comedies, old, along, subject:, a...  "
      ]
     },
     "execution_count": 3,
     "metadata": {},
     "output_type": "execute_result"
    }
   ],
   "source": [
    "# Load the dataset\n",
    "emails = pd.read_csv('emails.csv')\n",
    "\n",
    "# Helper function that converts text to lowercase and splits words into a list\n",
    "def process_email(text):\n",
    "    \"\"\"\n",
    "    Processes the given email text by converting it to lowercase, splitting it into words,\n",
    "    and returning a list of unique words.\n",
    "\n",
    "    Parameters:\n",
    "    - text (str): The email text to be processed.\n",
    "\n",
    "    Returns:\n",
    "    - list: A list of unique words extracted from the email text.\n",
    "    \"\"\"\n",
    "\n",
    "    text = text.lower()\n",
    "    return list(set(text.split()))\n",
    "\n",
    "# Create an extra column with the text converted to a lower-cased list of words\n",
    "emails['words'] = emails['text'].apply(process_email)\n",
    "\n",
    "# Show the first 5 rows\n",
    "emails.head(5)"
   ]
  },
  {
   "cell_type": "code",
   "execution_count": 5,
   "id": "30589d29",
   "metadata": {},
   "outputs": [],
   "source": [
    "def word_freq_per_class(df):\n",
    "\n",
    "    \n",
    "    word_freq_dict = {}\n",
    "    \n",
    "    for _, row in df.iterrows():\n",
    "        words = row['words']\n",
    "        # Iterate over the words in each email\n",
    "        for word in words:\n",
    "            # Check if word doesn't exist within the dictionary\n",
    "            if word not in word_freq_dict:\n",
    "                word_freq_dict[word] = {'spam': 0, 'ham': 0}\n",
    "            \n",
    "            # Check if the email was spam\n",
    "            match row['spam']:\n",
    "                case 0: \n",
    "                    \n",
    "                    word_freq_dict[word]['ham'] += 1\n",
    "                case 1: \n",
    "                    # If spam then add 1 to the count of spam\n",
    "                    word_freq_dict[word]['spam'] += 1\n",
    "                    \n",
    "\n",
    "\n",
    "    return word_freq_dict"
   ]
  },
  {
   "cell_type": "code",
   "execution_count": 6,
   "id": "4bf116f8",
   "metadata": {},
   "outputs": [
    {
     "name": "stdout",
     "output_type": "stream",
     "text": [
      "Frequency in both classes for word 'lottery': {'spam': 8, 'ham': 0}\n",
      "\n",
      "Frequency in both classes for word 'sale': {'spam': 38, 'ham': 41}\n",
      "\n",
      "Word 'asdfg' not in corpus\n"
     ]
    }
   ],
   "source": [
    "word_freq = word_freq_per_class(emails)\n",
    "print(f\"Frequency in both classes for word 'lottery': {word_freq['lottery']}\\n\")\n",
    "print(f\"Frequency in both classes for word 'sale': {word_freq['sale']}\\n\")\n",
    "\n",
    "try:\n",
    "    word_freq['asdfg']\n",
    "except KeyError:\n",
    "    print(\"Word 'asdfg' not in corpus\")"
   ]
  },
  {
   "cell_type": "code",
   "execution_count": 7,
   "id": "cbf9ed55",
   "metadata": {},
   "outputs": [],
   "source": [
    "def class_frequencies(df):\n",
    "   \n",
    "\n",
    "    \n",
    "    class_freq_dict = { \n",
    "        \"spam\": len(df[df['spam'] == 1]),\n",
    "        \"ham\": len(df[df['spam'] == 0])\n",
    "    } \n",
    "    \n",
    "\n",
    "    \n",
    "    return class_freq_dict"
   ]
  },
  {
   "cell_type": "code",
   "execution_count": 8,
   "id": "00f2c755",
   "metadata": {},
   "outputs": [
    {
     "name": "stdout",
     "output_type": "stream",
     "text": [
      "The frequencies for each class are {'spam': 1368, 'ham': 4360}\n",
      "\n",
      "The proportion of spam in the dataset is: 23.88%\n",
      "\n",
      "The proportion of ham in the dataset is: 76.12%\n"
     ]
    }
   ],
   "source": [
    "class_freq = class_frequencies(emails)\n",
    "print(f\"The frequencies for each class are {class_freq}\\n\")\n",
    "print(f\"The proportion of spam in the dataset is: {100*class_freq['spam']/len(emails):.2f}%\\n\")\n",
    "print(f\"The proportion of ham in the dataset is: {100*class_freq['ham']/len(emails):.2f}%\")"
   ]
  },
  {
   "cell_type": "code",
   "execution_count": 9,
   "id": "2881270f",
   "metadata": {},
   "outputs": [],
   "source": [
    "def naive_bayes_classifier(text, word_freq=word_freq, class_freq=class_freq):\n",
    "\n",
    "\n",
    "    text = text.lower()\n",
    "    words = set(text.split())\n",
    "    cumulative_product_spam = 1.0\n",
    "    cumulative_product_ham = 1.0\n",
    "    \n",
    "    ### START CODE HERE ###\n",
    "    \n",
    "    # Iterate over the words in the email\n",
    "    for word in words:\n",
    "        # You should only include words that exist in the corpus in your calculations\n",
    "        if word in word_freq:\n",
    "            word_freq_dict = word_freq[word]\n",
    "            spam_count = word_freq_dict['spam']\n",
    "            ham_count = word_freq_dict['ham']\n",
    "            cumulative_product_spam *= spam_count / class_freq['spam']\n",
    "            cumulative_product_ham *= ham_count / class_freq['ham']\n",
    "    \n",
    "     # Calculate the likelihood of the words appearing in the email given that it is spam\n",
    "    likelihood_word_given_spam = cumulative_product_spam * (class_freq['spam'] / (class_freq['spam'] + class_freq['ham']))\n",
    "    \n",
    "    # Calculate the likelihood of the words appearing in the email given that it is ham\n",
    "    likelihood_word_given_ham = cumulative_product_ham * (class_freq['ham'] / (class_freq['spam'] + class_freq['ham']))\n",
    "    \n",
    "    # Calculate the posterior probability of the email being spam given that the words appear in the email (the probability of being a spam given the email content)\n",
    "    prob_spam = likelihood_word_given_spam / (likelihood_word_given_spam + likelihood_word_given_ham)\n",
    "    \n",
    "    ### END CODE HERE ###\n",
    "    \n",
    "    return prob_spam"
   ]
  },
  {
   "cell_type": "code",
   "execution_count": 10,
   "id": "7f3023dc",
   "metadata": {},
   "outputs": [
    {
     "name": "stdout",
     "output_type": "stream",
     "text": [
      "Probability of spam for email 'enter the lottery to win three million dollars': 100.00%\n",
      "\n",
      "Probability of spam for email 'meet me at the lobby of the hotel at nine am': 0.00%\n",
      "\n",
      "Probability of spam for email '9898 asjfkjfdj': 23.88%\n",
      "\n"
     ]
    }
   ],
   "source": [
    "msg = \"enter the lottery to win three million dollars\"\n",
    "print(f\"Probability of spam for email '{msg}': {100*naive_bayes_classifier(msg):.2f}%\\n\")\n",
    "\n",
    "msg = \"meet me at the lobby of the hotel at nine am\"\n",
    "print(f\"Probability of spam for email '{msg}': {100*naive_bayes_classifier(msg):.2f}%\\n\")\n",
    "\n",
    "msg = \"9898 asjfkjfdj\"\n",
    "print(f\"Probability of spam for email '{msg}': {100*naive_bayes_classifier(msg):.2f}%\\n\")"
   ]
  }
 ],
 "metadata": {
  "kernelspec": {
   "display_name": "Python 3",
   "language": "python",
   "name": "python3"
  },
  "language_info": {
   "codemirror_mode": {
    "name": "ipython",
    "version": 3
   },
   "file_extension": ".py",
   "mimetype": "text/x-python",
   "name": "python",
   "nbconvert_exporter": "python",
   "pygments_lexer": "ipython3",
   "version": "3.13.0"
  }
 },
 "nbformat": 4,
 "nbformat_minor": 5
}
